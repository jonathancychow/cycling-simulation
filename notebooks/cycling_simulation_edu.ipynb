{
 "cells": [
  {
   "cell_type": "markdown",
   "id": "representative-attention",
   "metadata": {},
   "source": [
    "# Cycling Simulation - 1 "
   ]
  },
  {
   "cell_type": "markdown",
   "id": "absolute-southeast",
   "metadata": {},
   "source": [
    "Welcome!\n",
    "\n",
    "A simulation is an experiment done in computer, it could solve complex problems if it is set up correctly, and we could do repeatable controlled experiments in the virtual world. \n",
    "\n",
    "The following notebook will walk you through the steps to build up a simulation to estimate the time it takes to finish a Tour de France time trial stage! It will also show you the effects from using a lighter bike or a harder effort from the rider. \n",
    "\n",
    "This jupyter notebook is written in Python, it is a programming language that is widly used to do simulation.  \n",
    "\n",
    "In theory, you could do these experiments in real life, but they will takes ages and may not be repeatable. Also, there will be some variables that cannot be changed easily, for example, weight of the bike, so it is much easier to do this in the virtual world. \n",
    "\n"
   ]
  },
  {
   "cell_type": "markdown",
   "id": "severe-blowing",
   "metadata": {},
   "source": [
    "## How to use the notebook?\n",
    "If you press ctrl - Enter on the following cell, there will be a string printed out from python. It is also how you could execute the Python commands in a cell. Alternatively, you could also click on the tap 'Cell' at the top then 'Run All'."
   ]
  },
  {
   "cell_type": "code",
   "execution_count": null,
   "id": "gothic-marketing",
   "metadata": {},
   "outputs": [],
   "source": [
    "print(\"Let's get started with cycling simulation\")\n",
    "\n",
    "from IPython.display import Image\n",
    "Image(\"https://www.harriswestminstersixthform.org.uk/uploads/asset_image/2_259_l.jpg\")"
   ]
  },
  {
   "cell_type": "markdown",
   "id": "constant-graphic",
   "metadata": {},
   "source": [
    "## Import Libraries\n",
    "Firstly, we need to import all the Python libraries we will need later on. We will need some of the python classes already written to compute the result for us. Import the following libraries."
   ]
  },
  {
   "cell_type": "code",
   "execution_count": null,
   "id": "general-variation",
   "metadata": {},
   "outputs": [],
   "source": [
    "import matplotlib.pylab as plt\n",
    "import numpy as np\n",
    "from cycling.model.core.bike import Bike\n",
    "from cycling.model.core.environment import Environment\n",
    "from cycling.model.core.rider import Rider\n",
    "from cycling.model.core.stage import Stage\n",
    "from cycling.model.core.simulation import Simulation"
   ]
  },
  {
   "cell_type": "markdown",
   "id": "labeled-registration",
   "metadata": {},
   "source": [
    "## Set the parameters\n",
    "\n",
    "When you do an experiment in the laboratory, ideally you only change one variables at a time. This is a good practice and you should do the same in simulation as well. \n",
    "\n",
    "We will first need a baseline for our experiment, we could define the variables we want to change in the cell below. "
   ]
  },
  {
   "cell_type": "code",
   "execution_count": null,
   "id": "express-collapse",
   "metadata": {},
   "outputs": [],
   "source": [
    "# Set rider and bike parameters \n",
    "rider_mass = 50 # [kg]\n",
    "rider_name = 'Sam'\n",
    "bike_mass = 6 # [kg]\n",
    "bike_name = 'slim_bike'\n",
    "bike_rolling_resistance = 0.05\n",
    "\n",
    "# Initialise classes\n",
    "rider = Rider(name=rider_name, mass=rider_mass, cda=0)\n",
    "bike = Bike(name=bike_name, mass=bike_mass, cda=0.3, cda_climb=0.3, crr=bike_rolling_resistance)\n",
    "stage = Stage(name='Tour de France-2020 Stage 20', file_name='Tour-de-France-2020---Stage-20-ITT-Short.csv')\n",
    "env = Environment()\n",
    "simulation = Simulation(rider=rider, bike_1=bike, stage=stage, environment=env)"
   ]
  },
  {
   "cell_type": "markdown",
   "id": "binding-majority",
   "metadata": {},
   "source": [
    "## Let's see how fast you could go!\n",
    "\n",
    "Time to start the simulation, if you run the cell below, it will define the initial conditions of the experiment, then it will calculate the time and velocity profile of the bike. \n",
    "\n",
    "Behind the scenes, the computer model solves acceleration by balancing all the forces on the bike, as described at the diagram at the very top of this notebook. It may takes the computer a few seconds to finish the calculation, just be patient and wait, it is worth waiting for it as it will take a lot longer if we do those calculations by hand! "
   ]
  },
  {
   "cell_type": "code",
   "execution_count": null,
   "id": "still-colombia",
   "metadata": {},
   "outputs": [],
   "source": [
    "# Set initial conditions\n",
    "v0 = 0.1 # [m/s]\n",
    "t0 = 0 # [s]\n",
    "\n",
    "# Define stage and power\n",
    "s = stage.distance\n",
    "\n",
    "# 150W constant power\n",
    "power = 150 * np.ones(len(s)) \n",
    "\n",
    "velocity, time, _, _ = simulation.solve_velocity_and_time(s=s, power=power, v0=v0, t0=t0)\n",
    "print('Time = {:.1f} s'.format(time[-1]))\n",
    "print('Average velocity = {:.1f} m/s'.format(stage.distance[-1]/time[-1]))"
   ]
  },
  {
   "cell_type": "markdown",
   "id": "respected-intranet",
   "metadata": {},
   "source": [
    "## Visualisation\n",
    "\n",
    "Sometimes it is difficult to understand what the numbers mean, let's see if graphs help. \n",
    "\n",
    "Use the library matplotlib to visualise stage gradient, elevation and velocity."
   ]
  },
  {
   "cell_type": "code",
   "execution_count": null,
   "id": "interpreted-moscow",
   "metadata": {},
   "outputs": [],
   "source": [
    "plt.figure(figsize=(15,10))\n",
    "plt.subplot(2, 1, 1)\n",
    "plt.plot(s, velocity)\n",
    "plt.ylabel('velocity')\n",
    "plt.subplot(2, 1, 2)\n",
    "plt.plot(s, stage.elevation)\n",
    "plt.ylabel('elevation')\n",
    "plt.show()"
   ]
  },
  {
   "cell_type": "markdown",
   "id": "organic-daily",
   "metadata": {},
   "source": [
    "You can see at the beginning of the stage, it is mostly flat. Most of the work from the rider has gone into overcoming the aerodynamics drag, therefore the rider can maintain a higher velocity for the first half of the stage. \n",
    "\n",
    "From 25,000 m onwards, there is a downhill section. The rider reaches up the top speed at around 15m/s at the point. \n",
    "\n",
    "From 27,000 m onwards, elevation keeps on increasing. A lot of work has gone into overcoming the weight of rider and the bike, therefore the velocity is significantly lower than the first half of the stage. "
   ]
  },
  {
   "cell_type": "markdown",
   "id": "english-tampa",
   "metadata": {},
   "source": [
    "## What if the bike is a little bit lighter?\n",
    "\n",
    "You may ask - what effects would the weight of the rider have on time and velocity? \n",
    "\n",
    "If you look at the elevation graph above, you may spot that there is a significant increase of elevation in this stage, in fact it starts off at 290m above sea level and finishes at 1040m. \n",
    "\n",
    "If the bike is a little bit lighter, will the result be any different? If so, by how much? \n",
    "\n",
    "Let's do an experiment. Remember to just change one variable at a time, if we change more than one variable we would not be able to reach a valid conclusion.  \n",
    "\n",
    "Decrease the bike weight by 10%, from 6kg to 5.4kg. Do you think the time required to finish the stage will be 10% lower? "
   ]
  },
  {
   "cell_type": "code",
   "execution_count": null,
   "id": "possible-consequence",
   "metadata": {},
   "outputs": [],
   "source": [
    "# Decrease the rider weight by 5kg\n",
    "bike_mass = 5.4 # [kg]\n",
    "\n",
    "# Update rider class since rider weight is updated \n",
    "bike = Bike(name=bike_name, mass=bike_mass, cda=0.3, cda_climb=0.3, crr=bike_rolling_resistance)\n",
    "\n",
    "# Update Simulation class since rider class is updated\n",
    "simulation = Simulation(rider=rider, bike_1=bike, stage=stage, environment=env)"
   ]
  },
  {
   "cell_type": "code",
   "execution_count": null,
   "id": "turned-empty",
   "metadata": {},
   "outputs": [],
   "source": [
    "# Re run the simulation \n",
    "\n",
    "velocity_reduce_weight, time_reduce_weight, _, _ = simulation.solve_velocity_and_time(s=s, power=power, v0=v0, t0=t0)\n",
    "print('Time = {:.1f} s'.format(time_reduce_weight[-1]))\n",
    "print('It is {:.1f} % quicker than the last run'.format(100 * (time[-1] - time_reduce_weight[-1])/time[-1]))\n",
    "print('Average velocity = {:.1f} m/s'.format(stage.distance[-1]/time_reduce_weight[-1]))"
   ]
  },
  {
   "cell_type": "markdown",
   "id": "recorded-boards",
   "metadata": {},
   "source": [
    "## What if you are little bit more powerful?\n",
    "\n",
    "Let's do another simulation to look at the effect power has on time and velocity. Instead of riding at 150W, increase the power by 10% to 165W and see what the effect is. "
   ]
  },
  {
   "cell_type": "code",
   "execution_count": null,
   "id": "virtual-norfolk",
   "metadata": {},
   "outputs": [],
   "source": [
    "# Increase power by 10% to 165W\n",
    "power = 165 * np.ones(len(s)) "
   ]
  },
  {
   "cell_type": "code",
   "execution_count": null,
   "id": "accompanied-turkish",
   "metadata": {},
   "outputs": [],
   "source": [
    "# Re run the simulation \n",
    "\n",
    "velocity_high_power, time_high_power, _, _ = simulation.solve_velocity_and_time(s=s, power=power, v0=v0, t0=t0)\n",
    "print('Time = {:.1f} s'.format(time_high_power[-1]))\n",
    "print('It is {:.1f} % quicker than the last run'.format(100 * (time[-1] - time_high_power[-1])/time[-1]))\n",
    "print('Average velocity = {:.1f} m/s'.format(stage.distance[-1]/time_high_power[-1]))"
   ]
  },
  {
   "cell_type": "markdown",
   "id": "broadband-wagner",
   "metadata": {},
   "source": [
    "This is interesting! \n",
    "\n",
    "Decreasing the weight of the bike should make you rider faster but the computer model tell us it is only 0.5% quicker if we make the bike 10% lighter. \n",
    "\n",
    "On the other hand, if the rider rides 10% harder by maintaining a higher constant power, it will be 6.7% quicker, compared to the baseline. "
   ]
  },
  {
   "cell_type": "code",
   "execution_count": null,
   "id": "extensive-nightlife",
   "metadata": {},
   "outputs": [],
   "source": [
    "# Loop through power\n",
    "power_iterate = [i for i in range(100,400,25)]\n",
    "\n",
    "time_result_power = []\n",
    "for this_power in power_iterate:\n",
    "    \n",
    "    # Constant bike mass\n",
    "    bike_mass = 6\n",
    "    \n",
    "    power = this_power * np.ones(len(s)) \n",
    "    \n",
    "    # Update rider class since rider weight is updated \n",
    "    bike = Bike(name=bike_name, mass=bike_mass, cda=0.3, cda_climb=0.3, crr=bike_rolling_resistance)\n",
    "\n",
    "    # Update Simulation class since rider class is updated\n",
    "    simulation = Simulation(rider=rider, bike_1=bike, stage=stage, environment=env)\n",
    "\n",
    "    velocity, time, _, _ = simulation.solve_velocity_and_time(s=s, power=power, v0=v0, t0=t0)\n",
    "    print('Time = {:.1f} s'.format(time[-1]))\n",
    "    \n",
    "    time_result_power.append(time[-1])"
   ]
  },
  {
   "cell_type": "code",
   "execution_count": null,
   "id": "national-thursday",
   "metadata": {},
   "outputs": [],
   "source": [
    "# Loop through weight\n",
    "\n",
    "bike_mass_iterate = [i for i in range(5,15,1)] # [kg]\n",
    "\n",
    "\n",
    "time_result_weight = []\n",
    "for this_mass in bike_mass_iterate:\n",
    "    \n",
    "    bike_mass = this_mass # [kg]\n",
    "    \n",
    "    # 150W constant power\n",
    "    power = 150 * np.ones(len(s)) \n",
    "    \n",
    "    # Update rider class since rider weight is updated \n",
    "    bike = Bike(name=bike_name, mass=bike_mass, cda=0.3, cda_climb=0.3, crr=bike_rolling_resistance)\n",
    "\n",
    "    # Update Simulation class since rider class is updated\n",
    "    simulation = Simulation(rider=rider, bike_1=bike, stage=stage, environment=env)\n",
    "\n",
    "    velocity, time, _, _ = simulation.solve_velocity_and_time(s=s, power=power, v0=v0, t0=t0)\n",
    "    print('Time = {:.1f} s'.format(time[-1]))\n",
    "    \n",
    "    time_result_weight.append(time[-1])\n",
    "    "
   ]
  },
  {
   "cell_type": "code",
   "execution_count": null,
   "id": "detailed-container",
   "metadata": {},
   "outputs": [],
   "source": [
    "plt.figure(figsize=(15,10))\n",
    "plt.subplot(2, 1, 1)\n",
    "plt.plot(power_iterate, time_result_power)\n",
    "plt.ylabel('Time')\n",
    "plt.xlabel('Rider Power')\n",
    "plt.subplot(2, 1, 2)\n",
    "plt.plot(bike_mass_iterate, time_result_weight)\n",
    "plt.xlabel('Bike Mass')\n",
    "plt.ylabel('Time')\n",
    "plt.show()"
   ]
  }
 ],
 "metadata": {
  "kernelspec": {
   "display_name": "Python 3",
   "language": "python",
   "name": "python3"
  },
  "language_info": {
   "codemirror_mode": {
    "name": "ipython",
    "version": 3
   },
   "file_extension": ".py",
   "mimetype": "text/x-python",
   "name": "python",
   "nbconvert_exporter": "python",
   "pygments_lexer": "ipython3",
   "version": "3.7.10"
  }
 },
 "nbformat": 4,
 "nbformat_minor": 5
}
